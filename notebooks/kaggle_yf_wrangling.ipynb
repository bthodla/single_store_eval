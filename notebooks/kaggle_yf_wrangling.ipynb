{
 "cells": [
  {
   "cell_type": "code",
   "execution_count": 1,
   "metadata": {
    "collapsed": true
   },
   "outputs": [],
   "source": [
    "import pandas as pd"
   ]
  },
  {
   "cell_type": "code",
   "execution_count": 2,
   "outputs": [],
   "source": [
    "data_folder = '..\\\\\\\\..\\\\\\\\..\\\\\\\\..\\\\\\\\Google Drive\\\\\\\\datasets\\\\\\\\mf_data_kaggle\\\\\\\\'"
   ],
   "metadata": {
    "collapsed": false,
    "pycharm": {
     "name": "#%%\n"
    }
   }
  },
  {
   "cell_type": "code",
   "execution_count": 3,
   "outputs": [],
   "source": [
    "def flip_cols2rows(src_df, col_list, item_category, key_col):\n",
    "    df1 = pd.DataFrame()\n",
    "    for i in col_list:\n",
    "        df2 = src_df[[key_col, i]].rename(columns = {key_col: key_col, i: 'value'}).assign(item_desc=i)\n",
    "        df1 = pd.concat([df1, df2], ignore_index=True)\n",
    "\n",
    "    df1['item_category'] = item_category\n",
    "    df1 = df1[['fund_symbol', 'item_category', 'item_desc', 'value']]\n",
    "    return df1"
   ],
   "metadata": {
    "collapsed": false,
    "pycharm": {
     "name": "#%%\n"
    }
   }
  },
  {
   "cell_type": "code",
   "execution_count": 4,
   "outputs": [],
   "source": [
    "def write2disk(df, out_filename):\n",
    "    df.to_parquet(data_folder+out_filename+'.parquet', engine='auto', compression='snappy',index=False)\n",
    "    df.to_csv(data_folder+out_filename+'.csv', index=False)"
   ],
   "metadata": {
    "collapsed": false,
    "pycharm": {
     "name": "#%%\n"
    }
   }
  },
  {
   "cell_type": "code",
   "execution_count": 43,
   "outputs": [],
   "source": [
    "def print_df_details(df):\n",
    "    print(df.shape[0])\n",
    "    print()\n",
    "    print(df.dropna(axis=0).head())"
   ],
   "metadata": {
    "collapsed": false,
    "pycharm": {
     "name": "#%%\n"
    }
   }
  },
  {
   "cell_type": "code",
   "execution_count": 6,
   "outputs": [],
   "source": [
    "mf_df = pd.read_parquet(data_folder+'mf.parquet')"
   ],
   "metadata": {
    "collapsed": false,
    "pycharm": {
     "name": "#%%\n"
    }
   }
  },
  {
   "cell_type": "code",
   "execution_count": 7,
   "outputs": [
    {
     "name": "stdout",
     "output_type": "stream",
     "text": [
      "23783\n",
      "\n",
      "  fund_symbol  quote_type region                  fund_short_name  \\\n",
      "0       AAAAX  MutualFund     US  DWS RREEF Real Assets Fund - Cl   \n",
      "1       AAAEX  MutualFund     US  AllianzGI Health Sciences Fund    \n",
      "2       AAAFX  MutualFund     US                             None   \n",
      "3       AAAGX  MutualFund     US  Thrivent Large Cap Growth Fund    \n",
      "4       AAAHX  MutualFund     US                             None   \n",
      "\n",
      "                                      fund_long_name currency  \\\n",
      "0               DWS RREEF Real Assets Fund - Class A      USD   \n",
      "1      Virtus AllianzGI Health Sciences Fund Class P      USD   \n",
      "2  American Century One Choice Blend+ 2015 Portfo...      USD   \n",
      "3             Thrivent Large Cap Growth Fund Class A      USD   \n",
      "4  American Century One Choice Blend+ 2015 Portfo...      USD   \n",
      "\n",
      "   initial_investment  subsequent_investment     fund_category  \\\n",
      "0              1000.0                   50.0  World Allocation   \n",
      "1           1000000.0                    NaN            Health   \n",
      "2              2500.0                   50.0  Target-Date 2015   \n",
      "3              2000.0                   50.0      Large Growth   \n",
      "4           5000000.0                    NaN  Target-Date 2015   \n",
      "\n",
      "                    fund_family  ... peer_environment_avg  \\\n",
      "0                           DWS  ...                 5.05   \n",
      "1                        Virtus  ...                 1.43   \n",
      "2  American Century Investments  ...                  NaN   \n",
      "3                Thrivent Funds  ...                 2.70   \n",
      "4  American Century Investments  ...                  NaN   \n",
      "\n",
      "  peer_environment_max social_score peer_social_min peer_social_avg  \\\n",
      "0                10.58         7.43            5.98            9.07   \n",
      "1                 3.27        12.96            9.52           12.87   \n",
      "2                  NaN          NaN             NaN             NaN   \n",
      "3                 5.81        10.13            7.25           10.14   \n",
      "4                  NaN          NaN             NaN             NaN   \n",
      "\n",
      "  peer_social_max  governance_score  peer_governance_min  peer_governance_avg  \\\n",
      "0           11.30              5.43                 4.26                 7.14   \n",
      "1           15.08              8.40                 4.96                 7.68   \n",
      "2             NaN               NaN                  NaN                  NaN   \n",
      "3           11.97              8.03                 5.30                 7.54   \n",
      "4             NaN               NaN                  NaN                  NaN   \n",
      "\n",
      "   peer_governance_max  \n",
      "0                 8.11  \n",
      "1                10.30  \n",
      "2                  NaN  \n",
      "3                 8.90  \n",
      "4                  NaN  \n",
      "\n",
      "[5 rows x 298 columns]\n"
     ]
    }
   ],
   "source": [
    "print_df_details(mf_df)"
   ],
   "metadata": {
    "collapsed": false,
    "pycharm": {
     "name": "#%%\n"
    }
   }
  },
  {
   "cell_type": "code",
   "execution_count": 31,
   "outputs": [],
   "source": [
    "key_column = \"fund_symbol\"\n",
    "\n",
    "week_52 = [\n",
    "    \"week52_high_low_change\",\n",
    "    \"week52_high_low_change_perc\",\n",
    "    \"week52_high\",\n",
    "    \"week52_high_change\",\n",
    "    \"week52_high_change_perc\",\n",
    "    \"week52_low\",\n",
    "    \"week52_low_change\",\n",
    "    \"week52_low_change_perc\"\n",
    "]\n",
    "\n",
    "exp_ratio = [\n",
    "    \"fund_annual_report_net_expense_ratio\",\n",
    "    \"category_annual_report_net_expense_ratio\",\n",
    "    \"fund_prospectus_net_expense_ratio\",\n",
    "    \"fund_prospectus_gross_expense_ratio\",\n",
    "    \"fund_max_12b1_fee\",\n",
    "    \"fund_max_front_end_sales_load\",\n",
    "    \"category_max_front_end_sales_load\",\n",
    "    \"fund_max_deferred_sales_load\",\n",
    "    \"category_max_deferred_sales_load\",\n",
    "    \"fund_year3_expense_projection\",\n",
    "    \"fund_year5_expense_projection\",\n",
    "    \"fund_year10_expense_projection\"\n",
    "]\n",
    "\n",
    "asset_allocation = [\n",
    "    \"asset_cash\",\n",
    "    \"asset_stocks\",\n",
    "    \"asset_bonds\",\n",
    "    \"asset_others\",\n",
    "    \"asset_preferred\",\n",
    "    \"asset_convertible\"\n",
    "]\n",
    "\n",
    "sector_allocation = [\n",
    "    \"fund_sector_basic_materials\",\n",
    "    \"fund_sector_communication_services\",\n",
    "    \"fund_sector_consumer_cyclical\",\n",
    "    \"fund_sector_consumer_defensive\",\n",
    "    \"fund_sector_energy\",\n",
    "    \"fund_sector_financial_services\",\n",
    "    \"fund_sector_healthcare\",\n",
    "    \"fund_sector_industrials\",\n",
    "    \"fund_sector_real_estate\",\n",
    "    \"fund_sector_technology\",\n",
    "    \"fund_sector_utilities\"\n",
    "]\n",
    "\n",
    "ratio = [\n",
    "    \"fund_price_book_ratio\",\n",
    "    \"category_price_book_ratio\",\n",
    "    \"fund_price_cashflow_ratio\",\n",
    "    \"category_price_cashflow_ratio\",\n",
    "    \"fund_price_earning_ratio\",\n",
    "    \"category_price_earning_ratio\",\n",
    "    \"fund_price_sales_ratio\",\n",
    "    \"category_price_sales_ratio\",\n",
    "    \"fund_median_market_cap\",\n",
    "    \"category_median_market_cap\",\n",
    "    \"fund_year3_earnings_growth\",\n",
    "    \"category_year3_earnings_growth\",\n",
    "    \"fund_bond_maturity\",\n",
    "    \"category_bond_maturity\",\n",
    "    \"fund_bond_duration\",\n",
    "    \"category_bond_duration\"\n",
    "]\n",
    "\n",
    "bond_rating = [\n",
    "    \"fund_bonds_us_government\",\n",
    "    \"fund_bonds_aaa\",\n",
    "    \"fund_bonds_aa\",\n",
    "    \"fund_bonds_a\",\n",
    "    \"fund_bonds_bbb\",\n",
    "    \"fund_bonds_bb\",\n",
    "    \"fund_bonds_b\",\n",
    "    \"fund_bonds_below_b\",\n",
    "    \"fund_bonds_others\"\n",
    "]\n",
    "\n",
    "returns = [\n",
    "    \"fund_return_ytd\",\n",
    "    \"category_return_ytd\",\n",
    "    \"fund_return_1month\",\n",
    "    \"category_return_1month\",\n",
    "    \"fund_return_3months\",\n",
    "    \"category_return_3months\",\n",
    "    \"fund_return_1year\",\n",
    "    \"category_return_1year\",\n",
    "    \"fund_return_3years\",\n",
    "    \"category_return_3years\",\n",
    "    \"fund_return_5years\",\n",
    "    \"category_return_5years\",\n",
    "    \"fund_return_10years\",\n",
    "    \"category_return_10years\",\n",
    "    \"fund_return_last_bull_market\",\n",
    "    \"category_return_last_bull_market\",\n",
    "    \"fund_return_last_bear_market\",\n",
    "    \"category_return_last_bear_market\",\n",
    "    \"years_up\",\n",
    "    \"years_down\",\n",
    "    \"quarters_up\",\n",
    "    \"quarters_down\"\n",
    "]\n",
    "\n",
    "annual_returns = [\n",
    "    \"fund_return_2020\",\n",
    "    \"category_return_2020\",\n",
    "    \"fund_return_2019\",\n",
    "    \"category_return_2019\",\n",
    "    \"fund_return_2018\",\n",
    "    \"category_return_2018\",\n",
    "    \"fund_return_2017\",\n",
    "    \"category_return_2017\",\n",
    "    \"fund_return_2016\",\n",
    "    \"category_return_2016\",\n",
    "    \"fund_return_2015\",\n",
    "    \"category_return_2015\",\n",
    "    \"fund_return_2014\",\n",
    "    \"category_return_2014\",\n",
    "    \"fund_return_2013\",\n",
    "    \"category_return_2013\",\n",
    "    \"fund_return_2012\",\n",
    "    \"category_return_2012\",\n",
    "    \"fund_return_2011\",\n",
    "    \"category_return_2011\",\n",
    "    \"fund_return_2010\",\n",
    "    \"category_return_2010\",\n",
    "    \"fund_return_2009\",\n",
    "    \"category_return_2009\",\n",
    "    \"fund_return_2008\",\n",
    "    \"category_return_2008\",\n",
    "    \"fund_return_2007\",\n",
    "    \"category_return_2007\",\n",
    "    \"fund_return_2006\",\n",
    "    \"category_return_2006\",\n",
    "    \"fund_return_2005\",\n",
    "    \"category_return_2005\",\n",
    "    \"fund_return_2004\",\n",
    "    \"category_return_2004\",\n",
    "    \"fund_return_2003\",\n",
    "    \"category_return_2003\",\n",
    "    \"fund_return_2002\",\n",
    "    \"category_return_2002\",\n",
    "    \"fund_return_2001\",\n",
    "    \"category_return_2001\",\n",
    "    \"fund_return_2000\",\n",
    "    \"category_return_2000\"\n",
    "]\n",
    "\n",
    "quarterly_returns = [\n",
    "    \"fund_return_2021_q3\",\n",
    "    \"fund_return_2021_q2\",\n",
    "    \"fund_return_2021_q1\",\n",
    "    \"fund_return_2020_q4\",\n",
    "    \"fund_return_2020_q3\",\n",
    "    \"fund_return_2020_q2\",\n",
    "    \"fund_return_2020_q1\",\n",
    "    \"fund_return_2019_q4\",\n",
    "    \"fund_return_2019_q3\",\n",
    "    \"fund_return_2019_q2\",\n",
    "    \"fund_return_2019_q1\",\n",
    "    \"fund_return_2018_q4\",\n",
    "    \"fund_return_2018_q3\",\n",
    "    \"fund_return_2018_q2\",\n",
    "    \"fund_return_2018_q1\",\n",
    "    \"fund_return_2017_q4\",\n",
    "    \"fund_return_2017_q3\",\n",
    "    \"fund_return_2017_q2\",\n",
    "    \"fund_return_2017_q1\",\n",
    "    \"fund_return_2016_q4\",\n",
    "    \"fund_return_2016_q3\",\n",
    "    \"fund_return_2016_q2\",\n",
    "    \"fund_return_2016_q1\",\n",
    "    \"fund_return_2015_q4\",\n",
    "    \"fund_return_2015_q3\",\n",
    "    \"fund_return_2015_q2\",\n",
    "    \"fund_return_2015_q1\",\n",
    "    \"fund_return_2014_q4\",\n",
    "    \"fund_return_2014_q3\",\n",
    "    \"fund_return_2014_q2\",\n",
    "    \"fund_return_2014_q1\",\n",
    "    \"fund_return_2013_q4\",\n",
    "    \"fund_return_2013_q3\",\n",
    "    \"fund_return_2013_q2\",\n",
    "    \"fund_return_2013_q1\",\n",
    "    \"fund_return_2012_q4\",\n",
    "    \"fund_return_2012_q3\",\n",
    "    \"fund_return_2012_q2\",\n",
    "    \"fund_return_2012_q1\",\n",
    "    \"fund_return_2011_q4\",\n",
    "    \"fund_return_2011_q3\",\n",
    "    \"fund_return_2011_q2\",\n",
    "    \"fund_return_2011_q1\",\n",
    "    \"fund_return_2010_q4\",\n",
    "    \"fund_return_2010_q3\",\n",
    "    \"fund_return_2010_q2\",\n",
    "    \"fund_return_2010_q1\",\n",
    "    \"fund_return_2009_q4\",\n",
    "    \"fund_return_2009_q3\",\n",
    "    \"fund_return_2009_q2\",\n",
    "    \"fund_return_2009_q1\",\n",
    "    \"fund_return_2008_q4\",\n",
    "    \"fund_return_2008_q3\",\n",
    "    \"fund_return_2008_q2\",\n",
    "    \"fund_return_2008_q1\",\n",
    "    \"fund_return_2007_q4\",\n",
    "    \"fund_return_2007_q3\",\n",
    "    \"fund_return_2007_q2\",\n",
    "    \"fund_return_2007_q1\",\n",
    "    \"fund_return_2006_q4\",\n",
    "    \"fund_return_2006_q3\",\n",
    "    \"fund_return_2006_q2\",\n",
    "    \"fund_return_2006_q1\",\n",
    "    \"fund_return_2005_q4\",\n",
    "    \"fund_return_2005_q3\",\n",
    "    \"fund_return_2005_q2\",\n",
    "    \"fund_return_2005_q1\",\n",
    "    \"fund_return_2004_q4\",\n",
    "    \"fund_return_2004_q3\",\n",
    "    \"fund_return_2004_q2\",\n",
    "    \"fund_return_2004_q1\",\n",
    "    \"fund_return_2003_q4\",\n",
    "    \"fund_return_2003_q3\",\n",
    "    \"fund_return_2003_q2\",\n",
    "    \"fund_return_2003_q1\",\n",
    "    \"fund_return_2002_q4\",\n",
    "    \"fund_return_2002_q3\",\n",
    "    \"fund_return_2002_q2\",\n",
    "    \"fund_return_2002_q1\",\n",
    "    \"fund_return_2001_q4\",\n",
    "    \"fund_return_2001_q3\",\n",
    "    \"fund_return_2001_q2\",\n",
    "    \"fund_return_2001_q1\",\n",
    "    \"fund_return_2000_q4\",\n",
    "    \"fund_return_2000_q3\",\n",
    "    \"fund_return_2000_q2\",\n",
    "    \"fund_return_2000_q1\"\n",
    "]\n",
    "\n",
    "alpha_beta = [\n",
    "    \"fund_alpha_3years\",\n",
    "    \"fund_beta_3years\",\n",
    "    \"fund_mean_annual_return_3years\",\n",
    "    \"fund_r_squared_3years\",\n",
    "    \"fund_stdev_3years\",\n",
    "    \"fund_sharpe_ratio_3years\",\n",
    "    \"fund_treynor_ratio_3years\",\n",
    "    \"fund_alpha_5years\",\n",
    "    \"fund_beta_5years\",\n",
    "    \"fund_mean_annual_return_5years\",\n",
    "    \"fund_r_squared_5years\",\n",
    "    \"fund_stdev_5years\",\n",
    "    \"fund_sharpe_ratio_5years\",\n",
    "    \"fund_treynor_ratio_5years\",\n",
    "    \"fund_alpha_10years\",\n",
    "    \"fund_beta_10years\",\n",
    "    \"fund_mean_annual_return_10years\",\n",
    "    \"fund_r_squared_10years\",\n",
    "    \"fund_stdev_10years\",\n",
    "    \"fund_sharpe_ratio_10years\",\n",
    "    \"fund_treynor_ratio_10years\",\n",
    "    \"fund_return_category_rank_ytd\",\n",
    "    \"fund_return_category_rank_1month\",\n",
    "    \"fund_return_category_rank_3months\",\n",
    "    \"fund_return_category_rank_1year\",\n",
    "    \"fund_return_category_rank_3years\",\n",
    "    \"fund_return_category_rank_5years\",\n",
    "    \"load_adj_return_1year\",\n",
    "    \"load_adj_return_3years\",\n",
    "    \"load_adj_return_5years\",\n",
    "    \"load_adj_return_10years\"\n",
    "]\n"
   ],
   "metadata": {
    "collapsed": false,
    "pycharm": {
     "name": "#%%\n"
    }
   }
  },
  {
   "cell_type": "code",
   "execution_count": 9,
   "outputs": [],
   "source": [
    "# Converting week_52 columns\n",
    "week_52_df = flip_cols2rows(src_df=mf_df, col_list=week_52, item_category='Week 52', key_col=key_column)"
   ],
   "metadata": {
    "collapsed": false,
    "pycharm": {
     "name": "#%%\n"
    }
   }
  },
  {
   "cell_type": "code",
   "execution_count": 10,
   "outputs": [
    {
     "name": "stdout",
     "output_type": "stream",
     "text": [
      "190264\n",
      "\n",
      "  fund_symbol item_category               item_desc  value\n",
      "0       AAAAX       Week 52  week52_high_low_change   2.44\n",
      "1       AAAEX       Week 52  week52_high_low_change   8.53\n",
      "2       AAAFX       Week 52  week52_high_low_change   0.76\n",
      "3       AAAGX       Week 52  week52_high_low_change   4.64\n",
      "4       AAAHX       Week 52  week52_high_low_change   0.77\n"
     ]
    }
   ],
   "source": [
    "print_df_details(week_52_df)"
   ],
   "metadata": {
    "collapsed": false,
    "pycharm": {
     "name": "#%%\n"
    }
   }
  },
  {
   "cell_type": "code",
   "execution_count": 11,
   "outputs": [],
   "source": [
    "write2disk(week_52_df, 'mfd_week_52')"
   ],
   "metadata": {
    "collapsed": false,
    "pycharm": {
     "name": "#%%\n"
    }
   }
  },
  {
   "cell_type": "code",
   "execution_count": 12,
   "outputs": [],
   "source": [
    "# Converting exp_ratio columns\n",
    "exp_ratio_df = flip_cols2rows(src_df=mf_df, col_list=exp_ratio, item_category='Expense Ratio', key_col=key_column)"
   ],
   "metadata": {
    "collapsed": false,
    "pycharm": {
     "name": "#%%\n"
    }
   }
  },
  {
   "cell_type": "code",
   "execution_count": 13,
   "outputs": [
    {
     "name": "stdout",
     "output_type": "stream",
     "text": [
      "285396\n",
      "\n",
      "  fund_symbol  item_category                             item_desc   value\n",
      "0       AAAAX  Expense Ratio  fund_annual_report_net_expense_ratio  0.0122\n",
      "1       AAAEX  Expense Ratio  fund_annual_report_net_expense_ratio  0.0109\n",
      "2       AAAFX  Expense Ratio  fund_annual_report_net_expense_ratio  0.0058\n",
      "3       AAAGX  Expense Ratio  fund_annual_report_net_expense_ratio  0.0108\n",
      "4       AAAHX  Expense Ratio  fund_annual_report_net_expense_ratio  0.0038\n"
     ]
    }
   ],
   "source": [
    "print_df_details(exp_ratio_df)"
   ],
   "metadata": {
    "collapsed": false,
    "pycharm": {
     "name": "#%%\n"
    }
   }
  },
  {
   "cell_type": "code",
   "execution_count": 14,
   "outputs": [],
   "source": [
    "write2disk(exp_ratio_df, 'mfd_exp_ratio')"
   ],
   "metadata": {
    "collapsed": false,
    "pycharm": {
     "name": "#%%\n"
    }
   }
  },
  {
   "cell_type": "code",
   "execution_count": 15,
   "outputs": [],
   "source": [
    "asset_allocation_df = flip_cols2rows(src_df=mf_df, col_list=asset_allocation, item_category='Asset Allocation', key_col=key_column)"
   ],
   "metadata": {
    "collapsed": false,
    "pycharm": {
     "name": "#%%\n"
    }
   }
  },
  {
   "cell_type": "code",
   "execution_count": 16,
   "outputs": [
    {
     "name": "stdout",
     "output_type": "stream",
     "text": [
      "142698\n",
      "\n",
      "  fund_symbol     item_category   item_desc   value\n",
      "0       AAAAX  Asset Allocation  asset_cash  0.0167\n",
      "1       AAAEX  Asset Allocation  asset_cash  0.0309\n",
      "2       AAAFX  Asset Allocation  asset_cash  0.0920\n",
      "3       AAAGX  Asset Allocation  asset_cash  0.0182\n",
      "4       AAAHX  Asset Allocation  asset_cash  0.0920\n"
     ]
    }
   ],
   "source": [
    "print_df_details(asset_allocation_df)"
   ],
   "metadata": {
    "collapsed": false,
    "pycharm": {
     "name": "#%%\n"
    }
   }
  },
  {
   "cell_type": "code",
   "execution_count": 17,
   "outputs": [],
   "source": [
    "write2disk(asset_allocation_df, 'mfd_asset_allocation')"
   ],
   "metadata": {
    "collapsed": false,
    "pycharm": {
     "name": "#%%\n"
    }
   }
  },
  {
   "cell_type": "code",
   "execution_count": 18,
   "outputs": [],
   "source": [
    "sector_allocation_df = flip_cols2rows(src_df=mf_df, col_list=sector_allocation, item_category='Sector Allocation', key_col=key_column)"
   ],
   "metadata": {
    "collapsed": false,
    "pycharm": {
     "name": "#%%\n"
    }
   }
  },
  {
   "cell_type": "code",
   "execution_count": 19,
   "outputs": [
    {
     "name": "stdout",
     "output_type": "stream",
     "text": [
      "261613\n",
      "\n",
      "  fund_symbol      item_category                    item_desc   value\n",
      "0       AAAAX  Sector Allocation  fund_sector_basic_materials  0.1607\n",
      "1       AAAEX  Sector Allocation  fund_sector_basic_materials  0.0368\n",
      "2       AAAFX  Sector Allocation  fund_sector_basic_materials  0.0290\n",
      "3       AAAGX  Sector Allocation  fund_sector_basic_materials  0.0000\n",
      "4       AAAHX  Sector Allocation  fund_sector_basic_materials  0.0290\n"
     ]
    }
   ],
   "source": [
    "print_df_details(sector_allocation_df)"
   ],
   "metadata": {
    "collapsed": false,
    "pycharm": {
     "name": "#%%\n"
    }
   }
  },
  {
   "cell_type": "code",
   "execution_count": 20,
   "outputs": [],
   "source": [
    "write2disk(sector_allocation_df, 'mfd_sector_allocation')"
   ],
   "metadata": {
    "collapsed": false,
    "pycharm": {
     "name": "#%%\n"
    }
   }
  },
  {
   "cell_type": "code",
   "execution_count": 21,
   "outputs": [],
   "source": [
    "ratio_df = flip_cols2rows(src_df=mf_df, col_list=ratio, item_category='Ratio', key_col=key_column)"
   ],
   "metadata": {
    "collapsed": false,
    "pycharm": {
     "name": "#%%\n"
    }
   }
  },
  {
   "cell_type": "code",
   "execution_count": 22,
   "outputs": [
    {
     "name": "stdout",
     "output_type": "stream",
     "text": [
      "380528\n",
      "\n",
      "  fund_symbol item_category              item_desc  value\n",
      "0       AAAAX         Ratio  fund_price_book_ratio   1.91\n",
      "1       AAAEX         Ratio  fund_price_book_ratio   4.68\n",
      "2       AAAFX         Ratio  fund_price_book_ratio   2.57\n",
      "3       AAAGX         Ratio  fund_price_book_ratio  10.20\n",
      "4       AAAHX         Ratio  fund_price_book_ratio   2.57\n"
     ]
    }
   ],
   "source": [
    "print_df_details(ratio_df)"
   ],
   "metadata": {
    "collapsed": false,
    "pycharm": {
     "name": "#%%\n"
    }
   }
  },
  {
   "cell_type": "code",
   "execution_count": 23,
   "outputs": [],
   "source": [
    "write2disk(ratio_df, 'mfd_ratio')"
   ],
   "metadata": {
    "collapsed": false,
    "pycharm": {
     "name": "#%%\n"
    }
   }
  },
  {
   "cell_type": "code",
   "execution_count": 24,
   "outputs": [],
   "source": [
    "bond_rating_df = flip_cols2rows(src_df=mf_df, col_list=bond_rating, item_category='Bond Rating', key_col=key_column)"
   ],
   "metadata": {
    "collapsed": false,
    "pycharm": {
     "name": "#%%\n"
    }
   }
  },
  {
   "cell_type": "code",
   "execution_count": 25,
   "outputs": [
    {
     "name": "stdout",
     "output_type": "stream",
     "text": [
      "214047\n",
      "\n",
      "  fund_symbol item_category                 item_desc  value\n",
      "0       AAAAX   Bond Rating  fund_bonds_us_government    NaN\n",
      "1       AAAEX   Bond Rating  fund_bonds_us_government    NaN\n",
      "2       AAAFX   Bond Rating  fund_bonds_us_government    0.0\n",
      "3       AAAGX   Bond Rating  fund_bonds_us_government    NaN\n",
      "4       AAAHX   Bond Rating  fund_bonds_us_government    0.0\n"
     ]
    }
   ],
   "source": [
    "print_df_details(bond_rating_df)"
   ],
   "metadata": {
    "collapsed": false,
    "pycharm": {
     "name": "#%%\n"
    }
   }
  },
  {
   "cell_type": "code",
   "execution_count": 26,
   "outputs": [],
   "source": [
    "write2disk(bond_rating_df, 'mfd_bond_rating')"
   ],
   "metadata": {
    "collapsed": false,
    "pycharm": {
     "name": "#%%\n"
    }
   }
  },
  {
   "cell_type": "code",
   "execution_count": 32,
   "outputs": [],
   "source": [
    "returns_df = flip_cols2rows(src_df=mf_df, col_list=returns, item_category='Return', key_col=key_column)"
   ],
   "metadata": {
    "collapsed": false,
    "pycharm": {
     "name": "#%%\n"
    }
   }
  },
  {
   "cell_type": "code",
   "execution_count": 33,
   "outputs": [
    {
     "name": "stdout",
     "output_type": "stream",
     "text": [
      "523226\n",
      "\n",
      "  fund_symbol item_category        item_desc    value\n",
      "0       AAAAX        Return  fund_return_ytd  0.21026\n",
      "1       AAAEX        Return  fund_return_ytd  0.19077\n",
      "2       AAAFX        Return  fund_return_ytd      NaN\n",
      "3       AAAGX        Return  fund_return_ytd  0.24559\n",
      "4       AAAHX        Return  fund_return_ytd      NaN\n"
     ]
    }
   ],
   "source": [
    "print_df_details(returns_df)"
   ],
   "metadata": {
    "collapsed": false,
    "pycharm": {
     "name": "#%%\n"
    }
   }
  },
  {
   "cell_type": "code",
   "execution_count": 34,
   "outputs": [
    {
     "name": "stdout",
     "output_type": "stream",
     "text": [
      "<class 'pandas.core.frame.DataFrame'>\n",
      "RangeIndex: 523226 entries, 0 to 523225\n",
      "Data columns (total 4 columns):\n",
      " #   Column         Non-Null Count   Dtype  \n",
      "---  ------         --------------   -----  \n",
      " 0   fund_symbol    523226 non-null  object \n",
      " 1   item_category  523226 non-null  object \n",
      " 2   item_desc      523226 non-null  object \n",
      " 3   value          475925 non-null  float64\n",
      "dtypes: float64(1), object(3)\n",
      "memory usage: 16.0+ MB\n"
     ]
    }
   ],
   "source": [
    "returns_df.info()"
   ],
   "metadata": {
    "collapsed": false,
    "pycharm": {
     "name": "#%%\n"
    }
   }
  },
  {
   "cell_type": "code",
   "execution_count": 35,
   "outputs": [],
   "source": [
    "write2disk(returns_df, 'mfd_returns')"
   ],
   "metadata": {
    "collapsed": false,
    "pycharm": {
     "name": "#%%\n"
    }
   }
  },
  {
   "cell_type": "code",
   "execution_count": 36,
   "outputs": [],
   "source": [
    "annual_returns_df = flip_cols2rows(src_df=mf_df, col_list=annual_returns, item_category='Annual Returns', key_col=key_column)"
   ],
   "metadata": {
    "collapsed": false,
    "pycharm": {
     "name": "#%%\n"
    }
   }
  },
  {
   "cell_type": "code",
   "execution_count": 37,
   "outputs": [
    {
     "name": "stdout",
     "output_type": "stream",
     "text": [
      "998886\n",
      "\n",
      "  fund_symbol   item_category         item_desc    value\n",
      "0       AAAAX  Annual Returns  fund_return_2020  0.03703\n",
      "1       AAAEX  Annual Returns  fund_return_2020      NaN\n",
      "2       AAAFX  Annual Returns  fund_return_2020      NaN\n",
      "3       AAAGX  Annual Returns  fund_return_2020  0.42443\n",
      "4       AAAHX  Annual Returns  fund_return_2020      NaN\n"
     ]
    }
   ],
   "source": [
    "print_df_details(annual_returns_df)"
   ],
   "metadata": {
    "collapsed": false,
    "pycharm": {
     "name": "#%%\n"
    }
   }
  },
  {
   "cell_type": "code",
   "execution_count": 38,
   "outputs": [],
   "source": [
    "write2disk(annual_returns_df, 'mfd_annual_returns')"
   ],
   "metadata": {
    "collapsed": false,
    "pycharm": {
     "name": "#%%\n"
    }
   }
  },
  {
   "cell_type": "code",
   "execution_count": 44,
   "outputs": [],
   "source": [
    "quarterly_returns_df = flip_cols2rows(src_df=mf_df, col_list=quarterly_returns, item_category='Quarterly Returns', key_col=key_column)"
   ],
   "metadata": {
    "collapsed": false,
    "pycharm": {
     "name": "#%%\n"
    }
   }
  },
  {
   "cell_type": "code",
   "execution_count": 45,
   "outputs": [
    {
     "name": "stdout",
     "output_type": "stream",
     "text": [
      "2069121\n",
      "\n",
      "   fund_symbol      item_category            item_desc    value\n",
      "5        AAAIX  Quarterly Returns  fund_return_2021_q3 -0.00561\n",
      "14       AAARX  Quarterly Returns  fund_return_2021_q3 -0.00773\n",
      "17       AAAUX  Quarterly Returns  fund_return_2021_q3 -0.00450\n",
      "21       AABAX  Quarterly Returns  fund_return_2021_q3 -0.00453\n",
      "29       AABOX  Quarterly Returns  fund_return_2021_q3 -0.00128\n"
     ]
    }
   ],
   "source": [
    "print_df_details(quarterly_returns_df)"
   ],
   "metadata": {
    "collapsed": false,
    "pycharm": {
     "name": "#%%\n"
    }
   }
  },
  {
   "cell_type": "code",
   "execution_count": 46,
   "outputs": [],
   "source": [
    "write2disk(quarterly_returns_df, 'mfd_quarterly_returns')"
   ],
   "metadata": {
    "collapsed": false,
    "pycharm": {
     "name": "#%%\n"
    }
   }
  },
  {
   "cell_type": "code",
   "execution_count": 47,
   "outputs": [],
   "source": [
    "alpha_beta_df = flip_cols2rows(src_df=mf_df, col_list=alpha_beta, item_category='Alpha/Beta', key_col=key_column)"
   ],
   "metadata": {
    "collapsed": false,
    "pycharm": {
     "name": "#%%\n"
    }
   }
  },
  {
   "cell_type": "code",
   "execution_count": 48,
   "outputs": [
    {
     "name": "stdout",
     "output_type": "stream",
     "text": [
      "737273\n",
      "\n",
      "   fund_symbol item_category          item_desc  value\n",
      "0        AAAAX    Alpha/Beta  fund_alpha_3years  -1.61\n",
      "1        AAAEX    Alpha/Beta  fund_alpha_3years   6.59\n",
      "3        AAAGX    Alpha/Beta  fund_alpha_3years   4.92\n",
      "5        AAAIX    Alpha/Beta  fund_alpha_3years  -0.40\n",
      "10       AAANX    Alpha/Beta  fund_alpha_3years  -5.08\n"
     ]
    }
   ],
   "source": [
    "print_df_details(alpha_beta_df)"
   ],
   "metadata": {
    "collapsed": false,
    "pycharm": {
     "name": "#%%\n"
    }
   }
  },
  {
   "cell_type": "code",
   "execution_count": 50,
   "outputs": [],
   "source": [
    "write2disk(alpha_beta_df, 'mfd_alpha_beta')"
   ],
   "metadata": {
    "collapsed": false,
    "pycharm": {
     "name": "#%%\n"
    }
   }
  },
  {
   "cell_type": "code",
   "execution_count": 52,
   "outputs": [],
   "source": [
    "drop_columns = [\n",
    "    \"week52_high_low_change\",\n",
    "    \"week52_high_low_change_perc\",\n",
    "    \"week52_high\",\n",
    "    \"week52_high_change\",\n",
    "    \"week52_high_change_perc\",\n",
    "    \"week52_low\",\n",
    "    \"week52_low_change\",\n",
    "    \"week52_low_change_perc\",\n",
    "    \"fund_annual_report_net_expense_ratio\",\n",
    "    \"category_annual_report_net_expense_ratio\",\n",
    "    \"fund_prospectus_net_expense_ratio\",\n",
    "    \"fund_prospectus_gross_expense_ratio\",\n",
    "    \"fund_max_12b1_fee\",\n",
    "    \"fund_max_front_end_sales_load\",\n",
    "    \"category_max_front_end_sales_load\",\n",
    "    \"fund_max_deferred_sales_load\",\n",
    "    \"category_max_deferred_sales_load\",\n",
    "    \"fund_year3_expense_projection\",\n",
    "    \"fund_year5_expense_projection\",\n",
    "    \"fund_year10_expense_projection\",\n",
    "    \"asset_cash\",\n",
    "    \"asset_stocks\",\n",
    "    \"asset_bonds\",\n",
    "    \"asset_others\",\n",
    "    \"asset_preferred\",\n",
    "    \"asset_convertible\",\n",
    "    \"fund_sector_basic_materials\",\n",
    "    \"fund_sector_communication_services\",\n",
    "    \"fund_sector_consumer_cyclical\",\n",
    "    \"fund_sector_consumer_defensive\",\n",
    "    \"fund_sector_energy\",\n",
    "    \"fund_sector_financial_services\",\n",
    "    \"fund_sector_healthcare\",\n",
    "    \"fund_sector_industrials\",\n",
    "    \"fund_sector_real_estate\",\n",
    "    \"fund_sector_technology\",\n",
    "    \"fund_sector_utilities\",\n",
    "    \"fund_price_book_ratio\",\n",
    "    \"category_price_book_ratio\",\n",
    "    \"fund_price_cashflow_ratio\",\n",
    "    \"category_price_cashflow_ratio\",\n",
    "    \"fund_price_earning_ratio\",\n",
    "    \"category_price_earning_ratio\",\n",
    "    \"fund_price_sales_ratio\",\n",
    "    \"category_price_sales_ratio\",\n",
    "    \"fund_median_market_cap\",\n",
    "    \"category_median_market_cap\",\n",
    "    \"fund_year3_earnings_growth\",\n",
    "    \"category_year3_earnings_growth\",\n",
    "    \"fund_bond_maturity\",\n",
    "    \"category_bond_maturity\",\n",
    "    \"fund_bond_duration\",\n",
    "    \"category_bond_duration\",\n",
    "    \"fund_bonds_us_government\",\n",
    "    \"fund_bonds_aaa\",\n",
    "    \"fund_bonds_aa\",\n",
    "    \"fund_bonds_a\",\n",
    "    \"fund_bonds_bbb\",\n",
    "    \"fund_bonds_bb\",\n",
    "    \"fund_bonds_b\",\n",
    "    \"fund_bonds_below_b\",\n",
    "    \"fund_bonds_others\",\n",
    "    \"fund_return_ytd\",\n",
    "    \"category_return_ytd\",\n",
    "    \"fund_return_1month\",\n",
    "    \"category_return_1month\",\n",
    "    \"fund_return_3months\",\n",
    "    \"category_return_3months\",\n",
    "    \"fund_return_1year\",\n",
    "    \"category_return_1year\",\n",
    "    \"fund_return_3years\",\n",
    "    \"category_return_3years\",\n",
    "    \"fund_return_5years\",\n",
    "    \"category_return_5years\",\n",
    "    \"fund_return_10years\",\n",
    "    \"category_return_10years\",\n",
    "    \"fund_return_last_bull_market\",\n",
    "    \"category_return_last_bull_market\",\n",
    "    \"fund_return_last_bear_market\",\n",
    "    \"category_return_last_bear_market\",\n",
    "    \"years_up\",\n",
    "    \"years_down\",\n",
    "    \"quarters_up\",\n",
    "    \"quarters_down\",\n",
    "    \"fund_return_2020\",\n",
    "    \"category_return_2020\",\n",
    "    \"fund_return_2019\",\n",
    "    \"category_return_2019\",\n",
    "    \"fund_return_2018\",\n",
    "    \"category_return_2018\",\n",
    "    \"fund_return_2017\",\n",
    "    \"category_return_2017\",\n",
    "    \"fund_return_2016\",\n",
    "    \"category_return_2016\",\n",
    "    \"fund_return_2015\",\n",
    "    \"category_return_2015\",\n",
    "    \"fund_return_2014\",\n",
    "    \"category_return_2014\",\n",
    "    \"fund_return_2013\",\n",
    "    \"category_return_2013\",\n",
    "    \"fund_return_2012\",\n",
    "    \"category_return_2012\",\n",
    "    \"fund_return_2011\",\n",
    "    \"category_return_2011\",\n",
    "    \"fund_return_2010\",\n",
    "    \"category_return_2010\",\n",
    "    \"fund_return_2009\",\n",
    "    \"category_return_2009\",\n",
    "    \"fund_return_2008\",\n",
    "    \"category_return_2008\",\n",
    "    \"fund_return_2007\",\n",
    "    \"category_return_2007\",\n",
    "    \"fund_return_2006\",\n",
    "    \"category_return_2006\",\n",
    "    \"fund_return_2005\",\n",
    "    \"category_return_2005\",\n",
    "    \"fund_return_2004\",\n",
    "    \"category_return_2004\",\n",
    "    \"fund_return_2003\",\n",
    "    \"category_return_2003\",\n",
    "    \"fund_return_2002\",\n",
    "    \"category_return_2002\",\n",
    "    \"fund_return_2001\",\n",
    "    \"category_return_2001\",\n",
    "    \"fund_return_2000\",\n",
    "    \"category_return_2000\",\n",
    "    \"fund_return_2021_q3\",\n",
    "    \"fund_return_2021_q2\",\n",
    "    \"fund_return_2021_q1\",\n",
    "    \"fund_return_2020_q4\",\n",
    "    \"fund_return_2020_q3\",\n",
    "    \"fund_return_2020_q2\",\n",
    "    \"fund_return_2020_q1\",\n",
    "    \"fund_return_2019_q4\",\n",
    "    \"fund_return_2019_q3\",\n",
    "    \"fund_return_2019_q2\",\n",
    "    \"fund_return_2019_q1\",\n",
    "    \"fund_return_2018_q4\",\n",
    "    \"fund_return_2018_q3\",\n",
    "    \"fund_return_2018_q2\",\n",
    "    \"fund_return_2018_q1\",\n",
    "    \"fund_return_2017_q4\",\n",
    "    \"fund_return_2017_q3\",\n",
    "    \"fund_return_2017_q2\",\n",
    "    \"fund_return_2017_q1\",\n",
    "    \"fund_return_2016_q4\",\n",
    "    \"fund_return_2016_q3\",\n",
    "    \"fund_return_2016_q2\",\n",
    "    \"fund_return_2016_q1\",\n",
    "    \"fund_return_2015_q4\",\n",
    "    \"fund_return_2015_q3\",\n",
    "    \"fund_return_2015_q2\",\n",
    "    \"fund_return_2015_q1\",\n",
    "    \"fund_return_2014_q4\",\n",
    "    \"fund_return_2014_q3\",\n",
    "    \"fund_return_2014_q2\",\n",
    "    \"fund_return_2014_q1\",\n",
    "    \"fund_return_2013_q4\",\n",
    "    \"fund_return_2013_q3\",\n",
    "    \"fund_return_2013_q2\",\n",
    "    \"fund_return_2013_q1\",\n",
    "    \"fund_return_2012_q4\",\n",
    "    \"fund_return_2012_q3\",\n",
    "    \"fund_return_2012_q2\",\n",
    "    \"fund_return_2012_q1\",\n",
    "    \"fund_return_2011_q4\",\n",
    "    \"fund_return_2011_q3\",\n",
    "    \"fund_return_2011_q2\",\n",
    "    \"fund_return_2011_q1\",\n",
    "    \"fund_return_2010_q4\",\n",
    "    \"fund_return_2010_q3\",\n",
    "    \"fund_return_2010_q2\",\n",
    "    \"fund_return_2010_q1\",\n",
    "    \"fund_return_2009_q4\",\n",
    "    \"fund_return_2009_q3\",\n",
    "    \"fund_return_2009_q2\",\n",
    "    \"fund_return_2009_q1\",\n",
    "    \"fund_return_2008_q4\",\n",
    "    \"fund_return_2008_q3\",\n",
    "    \"fund_return_2008_q2\",\n",
    "    \"fund_return_2008_q1\",\n",
    "    \"fund_return_2007_q4\",\n",
    "    \"fund_return_2007_q3\",\n",
    "    \"fund_return_2007_q2\",\n",
    "    \"fund_return_2007_q1\",\n",
    "    \"fund_return_2006_q4\",\n",
    "    \"fund_return_2006_q3\",\n",
    "    \"fund_return_2006_q2\",\n",
    "    \"fund_return_2006_q1\",\n",
    "    \"fund_return_2005_q4\",\n",
    "    \"fund_return_2005_q3\",\n",
    "    \"fund_return_2005_q2\",\n",
    "    \"fund_return_2005_q1\",\n",
    "    \"fund_return_2004_q4\",\n",
    "    \"fund_return_2004_q3\",\n",
    "    \"fund_return_2004_q2\",\n",
    "    \"fund_return_2004_q1\",\n",
    "    \"fund_return_2003_q4\",\n",
    "    \"fund_return_2003_q3\",\n",
    "    \"fund_return_2003_q2\",\n",
    "    \"fund_return_2003_q1\",\n",
    "    \"fund_return_2002_q4\",\n",
    "    \"fund_return_2002_q3\",\n",
    "    \"fund_return_2002_q2\",\n",
    "    \"fund_return_2002_q1\",\n",
    "    \"fund_return_2001_q4\",\n",
    "    \"fund_return_2001_q3\",\n",
    "    \"fund_return_2001_q2\",\n",
    "    \"fund_return_2001_q1\",\n",
    "    \"fund_return_2000_q4\",\n",
    "    \"fund_return_2000_q3\",\n",
    "    \"fund_return_2000_q2\",\n",
    "    \"fund_return_2000_q1\",\n",
    "    \"fund_alpha_3years\",\n",
    "    \"fund_beta_3years\",\n",
    "    \"fund_mean_annual_return_3years\",\n",
    "    \"fund_r_squared_3years\",\n",
    "    \"fund_stdev_3years\",\n",
    "    \"fund_sharpe_ratio_3years\",\n",
    "    \"fund_treynor_ratio_3years\",\n",
    "    \"fund_alpha_5years\",\n",
    "    \"fund_beta_5years\",\n",
    "    \"fund_mean_annual_return_5years\",\n",
    "    \"fund_r_squared_5years\",\n",
    "    \"fund_stdev_5years\",\n",
    "    \"fund_sharpe_ratio_5years\",\n",
    "    \"fund_treynor_ratio_5years\",\n",
    "    \"fund_alpha_10years\",\n",
    "    \"fund_beta_10years\",\n",
    "    \"fund_mean_annual_return_10years\",\n",
    "    \"fund_r_squared_10years\",\n",
    "    \"fund_stdev_10years\",\n",
    "    \"fund_sharpe_ratio_10years\",\n",
    "    \"fund_treynor_ratio_10years\",\n",
    "    \"fund_return_category_rank_ytd\",\n",
    "    \"fund_return_category_rank_1month\",\n",
    "    \"fund_return_category_rank_3months\",\n",
    "    \"fund_return_category_rank_1year\",\n",
    "    \"fund_return_category_rank_3years\",\n",
    "    \"fund_return_category_rank_5years\",\n",
    "    \"load_adj_return_1year\",\n",
    "    \"load_adj_return_3years\",\n",
    "    \"load_adj_return_5years\",\n",
    "    \"load_adj_return_10years\"\n",
    "]"
   ],
   "metadata": {
    "collapsed": false,
    "pycharm": {
     "name": "#%%\n"
    }
   }
  },
  {
   "cell_type": "code",
   "execution_count": 53,
   "outputs": [],
   "source": [
    "mf_df_basic = mf_df.drop(drop_columns, axis = 1)"
   ],
   "metadata": {
    "collapsed": false,
    "pycharm": {
     "name": "#%%\n"
    }
   }
  },
  {
   "cell_type": "code",
   "execution_count": 54,
   "outputs": [
    {
     "name": "stdout",
     "output_type": "stream",
     "text": [
      "<class 'pandas.core.frame.DataFrame'>\n",
      "RangeIndex: 23783 entries, 0 to 23782\n",
      "Data columns (total 54 columns):\n",
      " #   Column                       Non-Null Count  Dtype  \n",
      "---  ------                       --------------  -----  \n",
      " 0   fund_symbol                  23783 non-null  object \n",
      " 1   quote_type                   23783 non-null  object \n",
      " 2   region                       23783 non-null  object \n",
      " 3   fund_short_name              22959 non-null  object \n",
      " 4   fund_long_name               23778 non-null  object \n",
      " 5   currency                     23783 non-null  object \n",
      " 6   initial_investment           16485 non-null  float64\n",
      " 7   subsequent_investment        8943 non-null   float64\n",
      " 8   fund_category                23120 non-null  object \n",
      " 9   fund_family                  23783 non-null  object \n",
      " 10  exchange_code                23783 non-null  object \n",
      " 11  exchange_name                23783 non-null  object \n",
      " 12  exchange_timezone            23783 non-null  object \n",
      " 13  management_name              23783 non-null  object \n",
      " 14  management_bio               23304 non-null  object \n",
      " 15  management_start_date        23783 non-null  object \n",
      " 16  total_net_assets             23749 non-null  float64\n",
      " 17  year_to_date_return          23382 non-null  float64\n",
      " 18  day50_moving_average         23782 non-null  float64\n",
      " 19  day200_moving_average        23782 non-null  float64\n",
      " 20  investment_strategy          23783 non-null  object \n",
      " 21  fund_yield                   18686 non-null  float64\n",
      " 22  morningstar_overall_rating   21976 non-null  float64\n",
      " 23  morningstar_risk_rating      21976 non-null  float64\n",
      " 24  inception_date               23783 non-null  object \n",
      " 25  last_dividend                17282 non-null  float64\n",
      " 26  last_cap_gain                7 non-null      float64\n",
      " 27  annual_holdings_turnover     21975 non-null  float64\n",
      " 28  investment_type              22674 non-null  object \n",
      " 29  size_type                    22674 non-null  object \n",
      " 30  top10_holdings               23585 non-null  object \n",
      " 31  top10_holdings_total_assets  23640 non-null  float64\n",
      " 32  morningstar_return_rating    21976 non-null  float64\n",
      " 33  returns_as_of_date           23756 non-null  object \n",
      " 34  sustainability_score         15407 non-null  float64\n",
      " 35  sustainability_rank          15407 non-null  float64\n",
      " 36  esg_peer_group               15407 non-null  object \n",
      " 37  esg_peer_count               15407 non-null  float64\n",
      " 38  esg_score                    15407 non-null  float64\n",
      " 39  peer_esg_min                 15407 non-null  float64\n",
      " 40  peer_esg_avg                 15407 non-null  float64\n",
      " 41  peer_esg_max                 15407 non-null  float64\n",
      " 42  environment_score            15388 non-null  float64\n",
      " 43  peer_environment_min         14839 non-null  float64\n",
      " 44  peer_environment_avg         14839 non-null  float64\n",
      " 45  peer_environment_max         14839 non-null  float64\n",
      " 46  social_score                 15388 non-null  float64\n",
      " 47  peer_social_min              14839 non-null  float64\n",
      " 48  peer_social_avg              14839 non-null  float64\n",
      " 49  peer_social_max              14839 non-null  float64\n",
      " 50  governance_score             15388 non-null  float64\n",
      " 51  peer_governance_min          14839 non-null  float64\n",
      " 52  peer_governance_avg          14839 non-null  float64\n",
      " 53  peer_governance_max          14839 non-null  float64\n",
      "dtypes: float64(33), object(21)\n",
      "memory usage: 9.8+ MB\n"
     ]
    }
   ],
   "source": [
    "mf_df_basic.info()"
   ],
   "metadata": {
    "collapsed": false,
    "pycharm": {
     "name": "#%%\n"
    }
   }
  },
  {
   "cell_type": "code",
   "execution_count": 55,
   "outputs": [],
   "source": [
    "write2disk(mf_df_basic, 'mf_basic')"
   ],
   "metadata": {
    "collapsed": false,
    "pycharm": {
     "name": "#%%\n"
    }
   }
  },
  {
   "cell_type": "code",
   "execution_count": 60,
   "outputs": [
    {
     "name": "stdout",
     "output_type": "stream",
     "text": [
      "5803052\n",
      "\n",
      "   fund_symbol item_category          item_desc  value\n",
      "0        AAAAX    Alpha/Beta  fund_alpha_3years  -1.61\n",
      "1        AAAEX    Alpha/Beta  fund_alpha_3years   6.59\n",
      "3        AAAGX    Alpha/Beta  fund_alpha_3years   4.92\n",
      "5        AAAIX    Alpha/Beta  fund_alpha_3years  -0.40\n",
      "10       AAANX    Alpha/Beta  fund_alpha_3years  -5.08\n"
     ]
    }
   ],
   "source": [
    "# Run this after catting all the mfd files into one\n",
    "mf_detail_df = pd.read_csv(data_folder+'mf_detail.csv')\n",
    "print_df_details(mf_detail_df)"
   ],
   "metadata": {
    "collapsed": false,
    "pycharm": {
     "name": "#%%\n"
    }
   }
  },
  {
   "cell_type": "code",
   "execution_count": 61,
   "outputs": [],
   "source": [
    "mf_detail_df.dropna(axis=0, how='any', inplace=True)"
   ],
   "metadata": {
    "collapsed": false,
    "pycharm": {
     "name": "#%%\n"
    }
   }
  },
  {
   "cell_type": "code",
   "execution_count": 65,
   "outputs": [
    {
     "name": "stdout",
     "output_type": "stream",
     "text": [
      "3997038\n",
      "\n",
      "   fund_symbol item_category          item_desc  value\n",
      "0        AAAAX    Alpha/Beta  fund_alpha_3years  -1.61\n",
      "1        AAAEX    Alpha/Beta  fund_alpha_3years   6.59\n",
      "3        AAAGX    Alpha/Beta  fund_alpha_3years   4.92\n",
      "5        AAAIX    Alpha/Beta  fund_alpha_3years  -0.40\n",
      "10       AAANX    Alpha/Beta  fund_alpha_3years  -5.08\n"
     ]
    }
   ],
   "source": [
    "print_df_details(mf_detail_df)"
   ],
   "metadata": {
    "collapsed": false,
    "pycharm": {
     "name": "#%%\n"
    }
   }
  },
  {
   "cell_type": "code",
   "execution_count": 63,
   "outputs": [
    {
     "data": {
      "text/plain": "                                           fund_symbol  value\nitem_category item_desc                                      \nAlpha/Beta    fund_alpha_10years                 16669  16669\n              fund_alpha_3years                  22039  22039\n              fund_alpha_5years                  20843  20843\n              fund_beta_10years                  16703  16703\n              fund_beta_3years                   22082  22082\n...                                                ...    ...\nWeek 52       week52_high_low_change             23496  23496\n              week52_high_low_change_perc        23496  23496\n              week52_low                         23496  23496\n              week52_low_change                  22348  22348\n              week52_low_change_perc             22348  22348\n\n[244 rows x 2 columns]",
      "text/html": "<div>\n<style scoped>\n    .dataframe tbody tr th:only-of-type {\n        vertical-align: middle;\n    }\n\n    .dataframe tbody tr th {\n        vertical-align: top;\n    }\n\n    .dataframe thead th {\n        text-align: right;\n    }\n</style>\n<table border=\"1\" class=\"dataframe\">\n  <thead>\n    <tr style=\"text-align: right;\">\n      <th></th>\n      <th></th>\n      <th>fund_symbol</th>\n      <th>value</th>\n    </tr>\n    <tr>\n      <th>item_category</th>\n      <th>item_desc</th>\n      <th></th>\n      <th></th>\n    </tr>\n  </thead>\n  <tbody>\n    <tr>\n      <th rowspan=\"5\" valign=\"top\">Alpha/Beta</th>\n      <th>fund_alpha_10years</th>\n      <td>16669</td>\n      <td>16669</td>\n    </tr>\n    <tr>\n      <th>fund_alpha_3years</th>\n      <td>22039</td>\n      <td>22039</td>\n    </tr>\n    <tr>\n      <th>fund_alpha_5years</th>\n      <td>20843</td>\n      <td>20843</td>\n    </tr>\n    <tr>\n      <th>fund_beta_10years</th>\n      <td>16703</td>\n      <td>16703</td>\n    </tr>\n    <tr>\n      <th>fund_beta_3years</th>\n      <td>22082</td>\n      <td>22082</td>\n    </tr>\n    <tr>\n      <th>...</th>\n      <th>...</th>\n      <td>...</td>\n      <td>...</td>\n    </tr>\n    <tr>\n      <th rowspan=\"5\" valign=\"top\">Week 52</th>\n      <th>week52_high_low_change</th>\n      <td>23496</td>\n      <td>23496</td>\n    </tr>\n    <tr>\n      <th>week52_high_low_change_perc</th>\n      <td>23496</td>\n      <td>23496</td>\n    </tr>\n    <tr>\n      <th>week52_low</th>\n      <td>23496</td>\n      <td>23496</td>\n    </tr>\n    <tr>\n      <th>week52_low_change</th>\n      <td>22348</td>\n      <td>22348</td>\n    </tr>\n    <tr>\n      <th>week52_low_change_perc</th>\n      <td>22348</td>\n      <td>22348</td>\n    </tr>\n  </tbody>\n</table>\n<p>244 rows × 2 columns</p>\n</div>"
     },
     "execution_count": 63,
     "metadata": {},
     "output_type": "execute_result"
    }
   ],
   "source": [
    "mf_detail_df.groupby(['item_category', 'item_desc']).count()"
   ],
   "metadata": {
    "collapsed": false,
    "pycharm": {
     "name": "#%%\n"
    }
   }
  },
  {
   "cell_type": "code",
   "execution_count": 64,
   "outputs": [],
   "source": [
    "write2disk(mf_detail_df, 'mf_detail_nona')"
   ],
   "metadata": {
    "collapsed": false,
    "pycharm": {
     "name": "#%%\n"
    }
   }
  },
  {
   "cell_type": "code",
   "execution_count": null,
   "outputs": [],
   "source": [],
   "metadata": {
    "collapsed": false,
    "pycharm": {
     "name": "#%%\n"
    }
   }
  }
 ],
 "metadata": {
  "kernelspec": {
   "display_name": "Python 3",
   "language": "python",
   "name": "python3"
  },
  "language_info": {
   "codemirror_mode": {
    "name": "ipython",
    "version": 2
   },
   "file_extension": ".py",
   "mimetype": "text/x-python",
   "name": "python",
   "nbconvert_exporter": "python",
   "pygments_lexer": "ipython2",
   "version": "2.7.6"
  }
 },
 "nbformat": 4,
 "nbformat_minor": 0
}