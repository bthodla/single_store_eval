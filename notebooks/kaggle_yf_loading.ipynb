{
 "cells": [
  {
   "cell_type": "code",
   "execution_count": 2,
   "metadata": {
    "collapsed": true
   },
   "outputs": [],
   "source": [
    "import pandas as pd"
   ]
  },
  {
   "cell_type": "code",
   "execution_count": 3,
   "outputs": [],
   "source": [
    "data_folder = '..\\\\\\\\..\\\\\\\\..\\\\\\\\..\\\\\\\\Google Drive\\\\\\\\datasets\\\\\\\\mf_data_kaggle\\\\\\\\'"
   ],
   "metadata": {
    "collapsed": false,
    "pycharm": {
     "name": "#%%\n"
    }
   }
  },
  {
   "cell_type": "code",
   "execution_count": 4,
   "outputs": [],
   "source": [
    "# Read Mutual Fund prices from CSV file\n",
    "# parse_dates = ['price_date']\n",
    "# dtypes = {'fund_symbol'= str, 'price_date'= str, 'nav_per_share'= str}\n",
    "mf_prices_df = pd.read_csv(data_folder+'mf_prices.csv')"
   ],
   "metadata": {
    "collapsed": false,
    "pycharm": {
     "name": "#%%\n"
    }
   }
  },
  {
   "cell_type": "code",
   "execution_count": 5,
   "outputs": [
    {
     "name": "stdout",
     "output_type": "stream",
     "text": [
      "<class 'pandas.core.frame.DataFrame'>\n",
      "RangeIndex: 75657739 entries, 0 to 75657738\n",
      "Data columns (total 3 columns):\n",
      " #   Column         Dtype  \n",
      "---  ------         -----  \n",
      " 0   fund_symbol    object \n",
      " 1   price_date     object \n",
      " 2   nav_per_share  float64\n",
      "dtypes: float64(1), object(2)\n",
      "memory usage: 1.7+ GB\n",
      "None\n",
      "75657739\n"
     ]
    },
    {
     "data": {
      "text/plain": "  fund_symbol  price_date  nav_per_share\n0       AAAAX  2007-07-31          10.02\n1       AAAAX  2007-08-01           9.98\n2       AAAAX  2007-08-02          10.01\n3       AAAAX  2007-08-03           9.90\n4       AAAAX  2007-08-06           9.93",
      "text/html": "<div>\n<style scoped>\n    .dataframe tbody tr th:only-of-type {\n        vertical-align: middle;\n    }\n\n    .dataframe tbody tr th {\n        vertical-align: top;\n    }\n\n    .dataframe thead th {\n        text-align: right;\n    }\n</style>\n<table border=\"1\" class=\"dataframe\">\n  <thead>\n    <tr style=\"text-align: right;\">\n      <th></th>\n      <th>fund_symbol</th>\n      <th>price_date</th>\n      <th>nav_per_share</th>\n    </tr>\n  </thead>\n  <tbody>\n    <tr>\n      <th>0</th>\n      <td>AAAAX</td>\n      <td>2007-07-31</td>\n      <td>10.02</td>\n    </tr>\n    <tr>\n      <th>1</th>\n      <td>AAAAX</td>\n      <td>2007-08-01</td>\n      <td>9.98</td>\n    </tr>\n    <tr>\n      <th>2</th>\n      <td>AAAAX</td>\n      <td>2007-08-02</td>\n      <td>10.01</td>\n    </tr>\n    <tr>\n      <th>3</th>\n      <td>AAAAX</td>\n      <td>2007-08-03</td>\n      <td>9.90</td>\n    </tr>\n    <tr>\n      <th>4</th>\n      <td>AAAAX</td>\n      <td>2007-08-06</td>\n      <td>9.93</td>\n    </tr>\n  </tbody>\n</table>\n</div>"
     },
     "execution_count": 5,
     "metadata": {},
     "output_type": "execute_result"
    }
   ],
   "source": [
    "print(mf_prices_df.info())\n",
    "print(mf_prices_df.shape[0])\n",
    "mf_prices_df.head()"
   ],
   "metadata": {
    "collapsed": false,
    "pycharm": {
     "name": "#%%\n"
    }
   }
  },
  {
   "cell_type": "code",
   "execution_count": 6,
   "outputs": [],
   "source": [
    "# Write mutual fund prices to parquet format\n",
    "mf_prices_df.to_parquet(data_folder+'mf_prices.parquet', engine='auto', compression='snappy',index=False)"
   ],
   "metadata": {
    "collapsed": false,
    "pycharm": {
     "name": "#%%\n"
    }
   }
  },
  {
   "cell_type": "code",
   "execution_count": 7,
   "outputs": [],
   "source": [
    "# Read ETF prices from CSV file\n",
    "etf_prices_df = pd.read_csv(data_folder+'etf_prices.csv')"
   ],
   "metadata": {
    "collapsed": false,
    "pycharm": {
     "name": "#%%\n"
    }
   }
  },
  {
   "cell_type": "code",
   "execution_count": 8,
   "outputs": [
    {
     "name": "stdout",
     "output_type": "stream",
     "text": [
      "<class 'pandas.core.frame.DataFrame'>\n",
      "RangeIndex: 3866030 entries, 0 to 3866029\n",
      "Data columns (total 8 columns):\n",
      " #   Column       Dtype  \n",
      "---  ------       -----  \n",
      " 0   fund_symbol  object \n",
      " 1   price_date   object \n",
      " 2   open         float64\n",
      " 3   high         float64\n",
      " 4   low          float64\n",
      " 5   close        float64\n",
      " 6   adj_close    float64\n",
      " 7   volume       int64  \n",
      "dtypes: float64(5), int64(1), object(2)\n",
      "memory usage: 236.0+ MB\n",
      "None\n",
      "3866030\n"
     ]
    },
    {
     "data": {
      "text/plain": "  fund_symbol  price_date   open   high    low  close  adj_close  volume\n0         AAA  2020-09-09  25.10  25.12  25.07  25.07      24.85   17300\n1         AAA  2020-09-10  25.06  25.07  25.05  25.07      24.85   23500\n2         AAA  2020-09-11  25.04  25.05  25.02  25.03      24.81   33400\n3         AAA  2020-09-14  25.01  25.06  25.01  25.02      24.80   13100\n4         AAA  2020-09-15  25.02  25.03  25.01  25.01      24.79   12100",
      "text/html": "<div>\n<style scoped>\n    .dataframe tbody tr th:only-of-type {\n        vertical-align: middle;\n    }\n\n    .dataframe tbody tr th {\n        vertical-align: top;\n    }\n\n    .dataframe thead th {\n        text-align: right;\n    }\n</style>\n<table border=\"1\" class=\"dataframe\">\n  <thead>\n    <tr style=\"text-align: right;\">\n      <th></th>\n      <th>fund_symbol</th>\n      <th>price_date</th>\n      <th>open</th>\n      <th>high</th>\n      <th>low</th>\n      <th>close</th>\n      <th>adj_close</th>\n      <th>volume</th>\n    </tr>\n  </thead>\n  <tbody>\n    <tr>\n      <th>0</th>\n      <td>AAA</td>\n      <td>2020-09-09</td>\n      <td>25.10</td>\n      <td>25.12</td>\n      <td>25.07</td>\n      <td>25.07</td>\n      <td>24.85</td>\n      <td>17300</td>\n    </tr>\n    <tr>\n      <th>1</th>\n      <td>AAA</td>\n      <td>2020-09-10</td>\n      <td>25.06</td>\n      <td>25.07</td>\n      <td>25.05</td>\n      <td>25.07</td>\n      <td>24.85</td>\n      <td>23500</td>\n    </tr>\n    <tr>\n      <th>2</th>\n      <td>AAA</td>\n      <td>2020-09-11</td>\n      <td>25.04</td>\n      <td>25.05</td>\n      <td>25.02</td>\n      <td>25.03</td>\n      <td>24.81</td>\n      <td>33400</td>\n    </tr>\n    <tr>\n      <th>3</th>\n      <td>AAA</td>\n      <td>2020-09-14</td>\n      <td>25.01</td>\n      <td>25.06</td>\n      <td>25.01</td>\n      <td>25.02</td>\n      <td>24.80</td>\n      <td>13100</td>\n    </tr>\n    <tr>\n      <th>4</th>\n      <td>AAA</td>\n      <td>2020-09-15</td>\n      <td>25.02</td>\n      <td>25.03</td>\n      <td>25.01</td>\n      <td>25.01</td>\n      <td>24.79</td>\n      <td>12100</td>\n    </tr>\n  </tbody>\n</table>\n</div>"
     },
     "execution_count": 8,
     "metadata": {},
     "output_type": "execute_result"
    }
   ],
   "source": [
    "print(etf_prices_df.info())\n",
    "print(etf_prices_df.shape[0])\n",
    "etf_prices_df.head()"
   ],
   "metadata": {
    "collapsed": false,
    "pycharm": {
     "name": "#%%\n"
    }
   }
  },
  {
   "cell_type": "code",
   "execution_count": 9,
   "outputs": [],
   "source": [
    "# Write ETF prices to parquet format\n",
    "etf_prices_df.to_parquet(data_folder+'etf_prices.parquet', engine='auto', compression='snappy', index=False)"
   ],
   "metadata": {
    "collapsed": false,
    "pycharm": {
     "name": "#%%\n"
    }
   }
  },
  {
   "cell_type": "code",
   "execution_count": 10,
   "outputs": [],
   "source": [
    "# Read Mutual Funds info from CSV file\n",
    "mf_df = pd.read_csv(data_folder+'MutualFunds.csv')"
   ],
   "metadata": {
    "collapsed": false,
    "pycharm": {
     "name": "#%%\n"
    }
   }
  },
  {
   "cell_type": "code",
   "execution_count": 11,
   "outputs": [
    {
     "name": "stdout",
     "output_type": "stream",
     "text": [
      "<class 'pandas.core.frame.DataFrame'>\n",
      "RangeIndex: 23783 entries, 0 to 23782\n",
      "Columns: 298 entries, fund_symbol to peer_governance_max\n",
      "dtypes: float64(277), object(21)\n",
      "memory usage: 54.1+ MB\n",
      "None\n",
      "23783\n"
     ]
    },
    {
     "data": {
      "text/plain": "  fund_symbol  quote_type region                  fund_short_name  \\\n0       AAAAX  MutualFund     US  DWS RREEF Real Assets Fund - Cl   \n1       AAAEX  MutualFund     US  AllianzGI Health Sciences Fund    \n2       AAAFX  MutualFund     US                              NaN   \n3       AAAGX  MutualFund     US  Thrivent Large Cap Growth Fund    \n4       AAAHX  MutualFund     US                              NaN   \n\n                                      fund_long_name currency  \\\n0               DWS RREEF Real Assets Fund - Class A      USD   \n1      Virtus AllianzGI Health Sciences Fund Class P      USD   \n2  American Century One Choice Blend+ 2015 Portfo...      USD   \n3             Thrivent Large Cap Growth Fund Class A      USD   \n4  American Century One Choice Blend+ 2015 Portfo...      USD   \n\n   initial_investment  subsequent_investment     fund_category  \\\n0              1000.0                   50.0  World Allocation   \n1           1000000.0                    NaN            Health   \n2              2500.0                   50.0  Target-Date 2015   \n3              2000.0                   50.0      Large Growth   \n4           5000000.0                    NaN  Target-Date 2015   \n\n                    fund_family  ... peer_environment_avg  \\\n0                           DWS  ...                 5.05   \n1                        Virtus  ...                 1.43   \n2  American Century Investments  ...                  NaN   \n3                Thrivent Funds  ...                 2.70   \n4  American Century Investments  ...                  NaN   \n\n  peer_environment_max social_score peer_social_min peer_social_avg  \\\n0                10.58         7.43            5.98            9.07   \n1                 3.27        12.96            9.52           12.87   \n2                  NaN          NaN             NaN             NaN   \n3                 5.81        10.13            7.25           10.14   \n4                  NaN          NaN             NaN             NaN   \n\n  peer_social_max  governance_score  peer_governance_min  peer_governance_avg  \\\n0           11.30              5.43                 4.26                 7.14   \n1           15.08              8.40                 4.96                 7.68   \n2             NaN               NaN                  NaN                  NaN   \n3           11.97              8.03                 5.30                 7.54   \n4             NaN               NaN                  NaN                  NaN   \n\n   peer_governance_max  \n0                 8.11  \n1                10.30  \n2                  NaN  \n3                 8.90  \n4                  NaN  \n\n[5 rows x 298 columns]",
      "text/html": "<div>\n<style scoped>\n    .dataframe tbody tr th:only-of-type {\n        vertical-align: middle;\n    }\n\n    .dataframe tbody tr th {\n        vertical-align: top;\n    }\n\n    .dataframe thead th {\n        text-align: right;\n    }\n</style>\n<table border=\"1\" class=\"dataframe\">\n  <thead>\n    <tr style=\"text-align: right;\">\n      <th></th>\n      <th>fund_symbol</th>\n      <th>quote_type</th>\n      <th>region</th>\n      <th>fund_short_name</th>\n      <th>fund_long_name</th>\n      <th>currency</th>\n      <th>initial_investment</th>\n      <th>subsequent_investment</th>\n      <th>fund_category</th>\n      <th>fund_family</th>\n      <th>...</th>\n      <th>peer_environment_avg</th>\n      <th>peer_environment_max</th>\n      <th>social_score</th>\n      <th>peer_social_min</th>\n      <th>peer_social_avg</th>\n      <th>peer_social_max</th>\n      <th>governance_score</th>\n      <th>peer_governance_min</th>\n      <th>peer_governance_avg</th>\n      <th>peer_governance_max</th>\n    </tr>\n  </thead>\n  <tbody>\n    <tr>\n      <th>0</th>\n      <td>AAAAX</td>\n      <td>MutualFund</td>\n      <td>US</td>\n      <td>DWS RREEF Real Assets Fund - Cl</td>\n      <td>DWS RREEF Real Assets Fund - Class A</td>\n      <td>USD</td>\n      <td>1000.0</td>\n      <td>50.0</td>\n      <td>World Allocation</td>\n      <td>DWS</td>\n      <td>...</td>\n      <td>5.05</td>\n      <td>10.58</td>\n      <td>7.43</td>\n      <td>5.98</td>\n      <td>9.07</td>\n      <td>11.30</td>\n      <td>5.43</td>\n      <td>4.26</td>\n      <td>7.14</td>\n      <td>8.11</td>\n    </tr>\n    <tr>\n      <th>1</th>\n      <td>AAAEX</td>\n      <td>MutualFund</td>\n      <td>US</td>\n      <td>AllianzGI Health Sciences Fund</td>\n      <td>Virtus AllianzGI Health Sciences Fund Class P</td>\n      <td>USD</td>\n      <td>1000000.0</td>\n      <td>NaN</td>\n      <td>Health</td>\n      <td>Virtus</td>\n      <td>...</td>\n      <td>1.43</td>\n      <td>3.27</td>\n      <td>12.96</td>\n      <td>9.52</td>\n      <td>12.87</td>\n      <td>15.08</td>\n      <td>8.40</td>\n      <td>4.96</td>\n      <td>7.68</td>\n      <td>10.30</td>\n    </tr>\n    <tr>\n      <th>2</th>\n      <td>AAAFX</td>\n      <td>MutualFund</td>\n      <td>US</td>\n      <td>NaN</td>\n      <td>American Century One Choice Blend+ 2015 Portfo...</td>\n      <td>USD</td>\n      <td>2500.0</td>\n      <td>50.0</td>\n      <td>Target-Date 2015</td>\n      <td>American Century Investments</td>\n      <td>...</td>\n      <td>NaN</td>\n      <td>NaN</td>\n      <td>NaN</td>\n      <td>NaN</td>\n      <td>NaN</td>\n      <td>NaN</td>\n      <td>NaN</td>\n      <td>NaN</td>\n      <td>NaN</td>\n      <td>NaN</td>\n    </tr>\n    <tr>\n      <th>3</th>\n      <td>AAAGX</td>\n      <td>MutualFund</td>\n      <td>US</td>\n      <td>Thrivent Large Cap Growth Fund</td>\n      <td>Thrivent Large Cap Growth Fund Class A</td>\n      <td>USD</td>\n      <td>2000.0</td>\n      <td>50.0</td>\n      <td>Large Growth</td>\n      <td>Thrivent Funds</td>\n      <td>...</td>\n      <td>2.70</td>\n      <td>5.81</td>\n      <td>10.13</td>\n      <td>7.25</td>\n      <td>10.14</td>\n      <td>11.97</td>\n      <td>8.03</td>\n      <td>5.30</td>\n      <td>7.54</td>\n      <td>8.90</td>\n    </tr>\n    <tr>\n      <th>4</th>\n      <td>AAAHX</td>\n      <td>MutualFund</td>\n      <td>US</td>\n      <td>NaN</td>\n      <td>American Century One Choice Blend+ 2015 Portfo...</td>\n      <td>USD</td>\n      <td>5000000.0</td>\n      <td>NaN</td>\n      <td>Target-Date 2015</td>\n      <td>American Century Investments</td>\n      <td>...</td>\n      <td>NaN</td>\n      <td>NaN</td>\n      <td>NaN</td>\n      <td>NaN</td>\n      <td>NaN</td>\n      <td>NaN</td>\n      <td>NaN</td>\n      <td>NaN</td>\n      <td>NaN</td>\n      <td>NaN</td>\n    </tr>\n  </tbody>\n</table>\n<p>5 rows × 298 columns</p>\n</div>"
     },
     "execution_count": 11,
     "metadata": {},
     "output_type": "execute_result"
    }
   ],
   "source": [
    "print(mf_df.info())\n",
    "print(mf_df.shape[0])\n",
    "mf_df.head()"
   ],
   "metadata": {
    "collapsed": false,
    "pycharm": {
     "name": "#%%\n"
    }
   }
  },
  {
   "cell_type": "code",
   "execution_count": 12,
   "outputs": [],
   "source": [
    "# Write MF info to parquet format\n",
    "mf_df.to_parquet(data_folder+'mf.parquet', engine='auto', compression='snappy', index=False)"
   ],
   "metadata": {
    "collapsed": false,
    "pycharm": {
     "name": "#%%\n"
    }
   }
  },
  {
   "cell_type": "code",
   "execution_count": 13,
   "outputs": [],
   "source": [
    "# Read ETF info from CSV file\n",
    "etf_df = pd.read_csv(data_folder+'ETFs.csv')"
   ],
   "metadata": {
    "collapsed": false,
    "pycharm": {
     "name": "#%%\n"
    }
   }
  },
  {
   "cell_type": "code",
   "execution_count": 14,
   "outputs": [
    {
     "name": "stdout",
     "output_type": "stream",
     "text": [
      "<class 'pandas.core.frame.DataFrame'>\n",
      "RangeIndex: 2310 entries, 0 to 2309\n",
      "Columns: 142 entries, fund_symbol to fund_treynor_ratio_10years\n",
      "dtypes: float64(124), int64(1), object(17)\n",
      "memory usage: 2.5+ MB\n",
      "None\n",
      "2310\n"
     ]
    },
    {
     "data": {
      "text/plain": "  fund_symbol quote_type region                  fund_short_name  \\\n0        AAAU        ETF     US  DWS RREEF Real Assets Fund - Cl   \n1        AADR        ETF     US  AllianzGI Health Sciences Fund    \n2        AAXJ        ETF     US                              NaN   \n3        ABEQ        ETF     US  Thrivent Large Cap Growth Fund    \n4        ACES        ETF     US                              NaN   \n\n                                      fund_long_name currency  \\\n0               DWS RREEF Real Assets Fund - Class A      USD   \n1      Virtus AllianzGI Health Sciences Fund Class P      USD   \n2  American Century One Choice Blend+ 2015 Portfo...      USD   \n3             Thrivent Large Cap Growth Fund Class A      USD   \n4  American Century One Choice Blend+ 2015 Portfo...      USD   \n\n               fund_category                   fund_family exchange_code  \\\n0                        NaN                           DWS           PCX   \n1       Foreign Large Growth                        Virtus           NGM   \n2  Pacific/Asia ex-Japan Stk  American Century Investments           NGM   \n3                Large Value                Thrivent Funds           PCX   \n4       Miscellaneous Sector  American Century Investments           PCX   \n\n  exchange_name  ... fund_stdev_5years  fund_sharpe_ratio_5years  \\\n0      NYSEArca  ...               NaN                       NaN   \n1      NasdaqGM  ...             19.30                      0.62   \n2      NasdaqGM  ...             15.91                      0.66   \n3      NYSEArca  ...               NaN                       NaN   \n4      NYSEArca  ...               NaN                       NaN   \n\n   fund_treynor_ratio_5years  fund_alpha_10years  fund_beta_10years  \\\n0                        NaN                 NaN                NaN   \n1                       9.66                3.32               0.96   \n2                      10.37                0.30               0.99   \n3                        NaN                 NaN                NaN   \n4                        NaN                 NaN                NaN   \n\n   fund_mean_annual_return_10years  fund_r_squared_10years  \\\n0                              NaN                     NaN   \n1                             0.79                   73.64   \n2                             0.55                   78.24   \n3                              NaN                     NaN   \n4                              NaN                     NaN   \n\n   fund_stdev_10years  fund_sharpe_ratio_10years  fund_treynor_ratio_10years  \n0                 NaN                        NaN                         NaN  \n1               16.78                       0.53                        8.15  \n2               16.83                       0.36                        4.81  \n3                 NaN                        NaN                         NaN  \n4                 NaN                        NaN                         NaN  \n\n[5 rows x 142 columns]",
      "text/html": "<div>\n<style scoped>\n    .dataframe tbody tr th:only-of-type {\n        vertical-align: middle;\n    }\n\n    .dataframe tbody tr th {\n        vertical-align: top;\n    }\n\n    .dataframe thead th {\n        text-align: right;\n    }\n</style>\n<table border=\"1\" class=\"dataframe\">\n  <thead>\n    <tr style=\"text-align: right;\">\n      <th></th>\n      <th>fund_symbol</th>\n      <th>quote_type</th>\n      <th>region</th>\n      <th>fund_short_name</th>\n      <th>fund_long_name</th>\n      <th>currency</th>\n      <th>fund_category</th>\n      <th>fund_family</th>\n      <th>exchange_code</th>\n      <th>exchange_name</th>\n      <th>...</th>\n      <th>fund_stdev_5years</th>\n      <th>fund_sharpe_ratio_5years</th>\n      <th>fund_treynor_ratio_5years</th>\n      <th>fund_alpha_10years</th>\n      <th>fund_beta_10years</th>\n      <th>fund_mean_annual_return_10years</th>\n      <th>fund_r_squared_10years</th>\n      <th>fund_stdev_10years</th>\n      <th>fund_sharpe_ratio_10years</th>\n      <th>fund_treynor_ratio_10years</th>\n    </tr>\n  </thead>\n  <tbody>\n    <tr>\n      <th>0</th>\n      <td>AAAU</td>\n      <td>ETF</td>\n      <td>US</td>\n      <td>DWS RREEF Real Assets Fund - Cl</td>\n      <td>DWS RREEF Real Assets Fund - Class A</td>\n      <td>USD</td>\n      <td>NaN</td>\n      <td>DWS</td>\n      <td>PCX</td>\n      <td>NYSEArca</td>\n      <td>...</td>\n      <td>NaN</td>\n      <td>NaN</td>\n      <td>NaN</td>\n      <td>NaN</td>\n      <td>NaN</td>\n      <td>NaN</td>\n      <td>NaN</td>\n      <td>NaN</td>\n      <td>NaN</td>\n      <td>NaN</td>\n    </tr>\n    <tr>\n      <th>1</th>\n      <td>AADR</td>\n      <td>ETF</td>\n      <td>US</td>\n      <td>AllianzGI Health Sciences Fund</td>\n      <td>Virtus AllianzGI Health Sciences Fund Class P</td>\n      <td>USD</td>\n      <td>Foreign Large Growth</td>\n      <td>Virtus</td>\n      <td>NGM</td>\n      <td>NasdaqGM</td>\n      <td>...</td>\n      <td>19.30</td>\n      <td>0.62</td>\n      <td>9.66</td>\n      <td>3.32</td>\n      <td>0.96</td>\n      <td>0.79</td>\n      <td>73.64</td>\n      <td>16.78</td>\n      <td>0.53</td>\n      <td>8.15</td>\n    </tr>\n    <tr>\n      <th>2</th>\n      <td>AAXJ</td>\n      <td>ETF</td>\n      <td>US</td>\n      <td>NaN</td>\n      <td>American Century One Choice Blend+ 2015 Portfo...</td>\n      <td>USD</td>\n      <td>Pacific/Asia ex-Japan Stk</td>\n      <td>American Century Investments</td>\n      <td>NGM</td>\n      <td>NasdaqGM</td>\n      <td>...</td>\n      <td>15.91</td>\n      <td>0.66</td>\n      <td>10.37</td>\n      <td>0.30</td>\n      <td>0.99</td>\n      <td>0.55</td>\n      <td>78.24</td>\n      <td>16.83</td>\n      <td>0.36</td>\n      <td>4.81</td>\n    </tr>\n    <tr>\n      <th>3</th>\n      <td>ABEQ</td>\n      <td>ETF</td>\n      <td>US</td>\n      <td>Thrivent Large Cap Growth Fund</td>\n      <td>Thrivent Large Cap Growth Fund Class A</td>\n      <td>USD</td>\n      <td>Large Value</td>\n      <td>Thrivent Funds</td>\n      <td>PCX</td>\n      <td>NYSEArca</td>\n      <td>...</td>\n      <td>NaN</td>\n      <td>NaN</td>\n      <td>NaN</td>\n      <td>NaN</td>\n      <td>NaN</td>\n      <td>NaN</td>\n      <td>NaN</td>\n      <td>NaN</td>\n      <td>NaN</td>\n      <td>NaN</td>\n    </tr>\n    <tr>\n      <th>4</th>\n      <td>ACES</td>\n      <td>ETF</td>\n      <td>US</td>\n      <td>NaN</td>\n      <td>American Century One Choice Blend+ 2015 Portfo...</td>\n      <td>USD</td>\n      <td>Miscellaneous Sector</td>\n      <td>American Century Investments</td>\n      <td>PCX</td>\n      <td>NYSEArca</td>\n      <td>...</td>\n      <td>NaN</td>\n      <td>NaN</td>\n      <td>NaN</td>\n      <td>NaN</td>\n      <td>NaN</td>\n      <td>NaN</td>\n      <td>NaN</td>\n      <td>NaN</td>\n      <td>NaN</td>\n      <td>NaN</td>\n    </tr>\n  </tbody>\n</table>\n<p>5 rows × 142 columns</p>\n</div>"
     },
     "execution_count": 14,
     "metadata": {},
     "output_type": "execute_result"
    }
   ],
   "source": [
    "print(etf_df.info())\n",
    "print(etf_df.shape[0])\n",
    "etf_df.head()"
   ],
   "metadata": {
    "collapsed": false,
    "pycharm": {
     "name": "#%%\n"
    }
   }
  },
  {
   "cell_type": "code",
   "execution_count": 15,
   "outputs": [],
   "source": [
    "# Write ETF info to parquet format\n",
    "etf_df.to_parquet(data_folder+'etf.parquet', engine='auto', compression='snappy', index=False)"
   ],
   "metadata": {
    "collapsed": false,
    "pycharm": {
     "name": "#%%\n"
    }
   }
  },
  {
   "cell_type": "code",
   "execution_count": null,
   "outputs": [],
   "source": [],
   "metadata": {
    "collapsed": false,
    "pycharm": {
     "name": "#%%\n"
    }
   }
  }
 ],
 "metadata": {
  "kernelspec": {
   "display_name": "Python 3",
   "language": "python",
   "name": "python3"
  },
  "language_info": {
   "codemirror_mode": {
    "name": "ipython",
    "version": 2
   },
   "file_extension": ".py",
   "mimetype": "text/x-python",
   "name": "python",
   "nbconvert_exporter": "python",
   "pygments_lexer": "ipython2",
   "version": "2.7.6"
  }
 },
 "nbformat": 4,
 "nbformat_minor": 0
}